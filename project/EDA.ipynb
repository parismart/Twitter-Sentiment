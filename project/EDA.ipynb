{
 "cells": [
  {
   "cell_type": "code",
   "execution_count": 2,
   "metadata": {},
   "outputs": [],
   "source": [
    "import pandas as pd\n",
    "import seaborn as sns\n",
    "import matplotlib.pyplot as plt"
   ]
  },
  {
   "cell_type": "code",
   "execution_count": 3,
   "metadata": {},
   "outputs": [],
   "source": [
    "df = pd.read_csv('data/clean_data.csv', index_col=0)"
   ]
  },
  {
   "cell_type": "code",
   "execution_count": 4,
   "metadata": {},
   "outputs": [
    {
     "data": {
      "text/html": [
       "<div>\n",
       "<style scoped>\n",
       "    .dataframe tbody tr th:only-of-type {\n",
       "        vertical-align: middle;\n",
       "    }\n",
       "\n",
       "    .dataframe tbody tr th {\n",
       "        vertical-align: top;\n",
       "    }\n",
       "\n",
       "    .dataframe thead th {\n",
       "        text-align: right;\n",
       "    }\n",
       "</style>\n",
       "<table border=\"1\" class=\"dataframe\">\n",
       "  <thead>\n",
       "    <tr style=\"text-align: right;\">\n",
       "      <th></th>\n",
       "      <th>id</th>\n",
       "      <th>date</th>\n",
       "      <th>user_id</th>\n",
       "      <th>username</th>\n",
       "      <th>name</th>\n",
       "      <th>tweet</th>\n",
       "      <th>replies_count</th>\n",
       "      <th>retweets_count</th>\n",
       "      <th>likes_count</th>\n",
       "    </tr>\n",
       "  </thead>\n",
       "  <tbody>\n",
       "    <tr>\n",
       "      <th>0</th>\n",
       "      <td>1478637395289378817</td>\n",
       "      <td>2022-01-05</td>\n",
       "      <td>966573471663828992</td>\n",
       "      <td>pymesmagazine</td>\n",
       "      <td>PymesMagazine</td>\n",
       "      <td>¿Quieres formarte en una de las profesiones qu...</td>\n",
       "      <td>0</td>\n",
       "      <td>0</td>\n",
       "      <td>3</td>\n",
       "    </tr>\n",
       "    <tr>\n",
       "      <th>1</th>\n",
       "      <td>1479787660910768132</td>\n",
       "      <td>2022-01-08</td>\n",
       "      <td>10045342</td>\n",
       "      <td>cmarchena</td>\n",
       "      <td>Carlos A. Marchena</td>\n",
       "      <td>@cbusquets Hola, @TheBridge_Tech te da la opci...</td>\n",
       "      <td>0</td>\n",
       "      <td>0</td>\n",
       "      <td>4</td>\n",
       "    </tr>\n",
       "    <tr>\n",
       "      <th>2</th>\n",
       "      <td>1480228635294449667</td>\n",
       "      <td>2022-01-09</td>\n",
       "      <td>183583012</td>\n",
       "      <td>ing_titiritero</td>\n",
       "      <td>Ingeniero Titiritero</td>\n",
       "      <td>Me encantaría saber que les enseñan sobre esta...</td>\n",
       "      <td>0</td>\n",
       "      <td>0</td>\n",
       "      <td>0</td>\n",
       "    </tr>\n",
       "    <tr>\n",
       "      <th>3</th>\n",
       "      <td>1481340966866989063</td>\n",
       "      <td>2022-01-12</td>\n",
       "      <td>41545659</td>\n",
       "      <td>nodosenlared</td>\n",
       "      <td>Mario Lopez de Avila</td>\n",
       "      <td>Ciclo de Conferencias sobre Inteligencia Artif...</td>\n",
       "      <td>0</td>\n",
       "      <td>1</td>\n",
       "      <td>6</td>\n",
       "    </tr>\n",
       "    <tr>\n",
       "      <th>4</th>\n",
       "      <td>1483469787078533123</td>\n",
       "      <td>2022-01-18</td>\n",
       "      <td>1162694149956603904</td>\n",
       "      <td>thebridge_tech</td>\n",
       "      <td>The Bridge</td>\n",
       "      <td>Del periodismo al marketing digital 🤸 esta es ...</td>\n",
       "      <td>0</td>\n",
       "      <td>0</td>\n",
       "      <td>0</td>\n",
       "    </tr>\n",
       "  </tbody>\n",
       "</table>\n",
       "</div>"
      ],
      "text/plain": [
       "                    id        date              user_id        username  \\\n",
       "0  1478637395289378817  2022-01-05   966573471663828992   pymesmagazine   \n",
       "1  1479787660910768132  2022-01-08             10045342       cmarchena   \n",
       "2  1480228635294449667  2022-01-09            183583012  ing_titiritero   \n",
       "3  1481340966866989063  2022-01-12             41545659    nodosenlared   \n",
       "4  1483469787078533123  2022-01-18  1162694149956603904  thebridge_tech   \n",
       "\n",
       "                   name                                              tweet  \\\n",
       "0         PymesMagazine  ¿Quieres formarte en una de las profesiones qu...   \n",
       "1    Carlos A. Marchena  @cbusquets Hola, @TheBridge_Tech te da la opci...   \n",
       "2  Ingeniero Titiritero  Me encantaría saber que les enseñan sobre esta...   \n",
       "3  Mario Lopez de Avila  Ciclo de Conferencias sobre Inteligencia Artif...   \n",
       "4            The Bridge  Del periodismo al marketing digital 🤸 esta es ...   \n",
       "\n",
       "   replies_count  retweets_count  likes_count  \n",
       "0              0               0            3  \n",
       "1              0               0            4  \n",
       "2              0               0            0  \n",
       "3              0               1            6  \n",
       "4              0               0            0  "
      ]
     },
     "execution_count": 4,
     "metadata": {},
     "output_type": "execute_result"
    }
   ],
   "source": [
    "df.head()"
   ]
  },
  {
   "cell_type": "code",
   "execution_count": 5,
   "metadata": {},
   "outputs": [
    {
     "name": "stdout",
     "output_type": "stream",
     "text": [
      "<class 'pandas.core.frame.DataFrame'>\n",
      "Int64Index: 281 entries, 0 to 280\n",
      "Data columns (total 9 columns):\n",
      " #   Column          Non-Null Count  Dtype \n",
      "---  ------          --------------  ----- \n",
      " 0   id              281 non-null    int64 \n",
      " 1   date            281 non-null    object\n",
      " 2   user_id         281 non-null    int64 \n",
      " 3   username        281 non-null    object\n",
      " 4   name            281 non-null    object\n",
      " 5   tweet           281 non-null    object\n",
      " 6   replies_count   281 non-null    int64 \n",
      " 7   retweets_count  281 non-null    int64 \n",
      " 8   likes_count     281 non-null    int64 \n",
      "dtypes: int64(5), object(4)\n",
      "memory usage: 22.0+ KB\n"
     ]
    }
   ],
   "source": [
    "df.info()"
   ]
  },
  {
   "cell_type": "markdown",
   "metadata": {},
   "source": [
    "# ¿Cuál es el tweet con mayor repercusión social? "
   ]
  },
  {
   "cell_type": "markdown",
   "metadata": {},
   "source": [
    "### Tweet con más likes"
   ]
  },
  {
   "cell_type": "code",
   "execution_count": 89,
   "metadata": {},
   "outputs": [],
   "source": [
    "pd.set_option('display.max_colwidth', None )"
   ]
  },
  {
   "cell_type": "code",
   "execution_count": 92,
   "metadata": {},
   "outputs": [
    {
     "data": {
      "text/html": [
       "<div>\n",
       "<style scoped>\n",
       "    .dataframe tbody tr th:only-of-type {\n",
       "        vertical-align: middle;\n",
       "    }\n",
       "\n",
       "    .dataframe tbody tr th {\n",
       "        vertical-align: top;\n",
       "    }\n",
       "\n",
       "    .dataframe thead th {\n",
       "        text-align: right;\n",
       "    }\n",
       "</style>\n",
       "<table border=\"1\" class=\"dataframe\">\n",
       "  <thead>\n",
       "    <tr style=\"text-align: right;\">\n",
       "      <th></th>\n",
       "      <th>id</th>\n",
       "      <th>date</th>\n",
       "      <th>user_id</th>\n",
       "      <th>username</th>\n",
       "      <th>name</th>\n",
       "      <th>tweet</th>\n",
       "      <th>replies_count</th>\n",
       "      <th>retweets_count</th>\n",
       "      <th>likes_count</th>\n",
       "      <th>month</th>\n",
       "    </tr>\n",
       "  </thead>\n",
       "  <tbody>\n",
       "    <tr>\n",
       "      <th>256</th>\n",
       "      <td>1542206287915585536</td>\n",
       "      <td>2022-06-29</td>\n",
       "      <td>1255794072280842240</td>\n",
       "      <td>heavymental_es</td>\n",
       "      <td>Heavy Mental</td>\n",
       "      <td>El sentido de la vida ya no es 42 -- Light Mental edición especial @TheBridge_Tech  https://t.co/z7hOVln8Bp</td>\n",
       "      <td>2</td>\n",
       "      <td>3</td>\n",
       "      <td>23</td>\n",
       "      <td>6</td>\n",
       "    </tr>\n",
       "  </tbody>\n",
       "</table>\n",
       "</div>"
      ],
      "text/plain": [
       "                      id       date              user_id        username  \\\n",
       "256  1542206287915585536 2022-06-29  1255794072280842240  heavymental_es   \n",
       "\n",
       "             name  \\\n",
       "256  Heavy Mental   \n",
       "\n",
       "                                                                                                           tweet  \\\n",
       "256  El sentido de la vida ya no es 42 -- Light Mental edición especial @TheBridge_Tech  https://t.co/z7hOVln8Bp   \n",
       "\n",
       "     replies_count  retweets_count  likes_count  month  \n",
       "256              2               3           23      6  "
      ]
     },
     "execution_count": 92,
     "metadata": {},
     "output_type": "execute_result"
    }
   ],
   "source": [
    "df.sort_values(by='likes_count', ascending=False).iloc[:1,:]"
   ]
  },
  {
   "cell_type": "markdown",
   "metadata": {},
   "source": [
    "### Tweet con más replies y retweets"
   ]
  },
  {
   "cell_type": "code",
   "execution_count": 7,
   "metadata": {},
   "outputs": [
    {
     "data": {
      "text/html": [
       "<div>\n",
       "<style scoped>\n",
       "    .dataframe tbody tr th:only-of-type {\n",
       "        vertical-align: middle;\n",
       "    }\n",
       "\n",
       "    .dataframe tbody tr th {\n",
       "        vertical-align: top;\n",
       "    }\n",
       "\n",
       "    .dataframe thead th {\n",
       "        text-align: right;\n",
       "    }\n",
       "</style>\n",
       "<table border=\"1\" class=\"dataframe\">\n",
       "  <thead>\n",
       "    <tr style=\"text-align: right;\">\n",
       "      <th></th>\n",
       "      <th>id</th>\n",
       "      <th>date</th>\n",
       "      <th>user_id</th>\n",
       "      <th>username</th>\n",
       "      <th>name</th>\n",
       "      <th>tweet</th>\n",
       "      <th>replies_count</th>\n",
       "      <th>retweets_count</th>\n",
       "      <th>likes_count</th>\n",
       "    </tr>\n",
       "  </thead>\n",
       "  <tbody>\n",
       "    <tr>\n",
       "      <th>195</th>\n",
       "      <td>1541046264539893760</td>\n",
       "      <td>2022-06-26</td>\n",
       "      <td>1255794072280842240</td>\n",
       "      <td>heavymental_es</td>\n",
       "      <td>Heavy Mental</td>\n",
       "      <td>🕣 TIC, TAC: MAÑANA os vemos a todos a las 7.30...</td>\n",
       "      <td>6</td>\n",
       "      <td>7</td>\n",
       "      <td>17</td>\n",
       "    </tr>\n",
       "  </tbody>\n",
       "</table>\n",
       "</div>"
      ],
      "text/plain": [
       "                      id        date              user_id        username  \\\n",
       "195  1541046264539893760  2022-06-26  1255794072280842240  heavymental_es   \n",
       "\n",
       "             name                                              tweet  \\\n",
       "195  Heavy Mental  🕣 TIC, TAC: MAÑANA os vemos a todos a las 7.30...   \n",
       "\n",
       "     replies_count  retweets_count  likes_count  \n",
       "195              6               7           17  "
      ]
     },
     "execution_count": 7,
     "metadata": {},
     "output_type": "execute_result"
    }
   ],
   "source": [
    "df.sort_values(by='retweets_count', ascending=False).iloc[:1,:]"
   ]
  },
  {
   "cell_type": "markdown",
   "metadata": {},
   "source": [
    "# ¿Cuál es el usuario que más menciona a la escuela? "
   ]
  },
  {
   "cell_type": "markdown",
   "metadata": {},
   "source": [
    "### The Bridge & Heavy Mental"
   ]
  },
  {
   "cell_type": "code",
   "execution_count": 125,
   "metadata": {},
   "outputs": [
    {
     "data": {
      "image/png": "[encoded data removed]",
      "text/plain": [
       "<Figure size 360x360 with 1 Axes>"
      ]
     },
     "metadata": {
      "needs_background": "light"
     },
     "output_type": "display_data"
    }
   ],
   "source": [
    "plt.figure(figsize=(5,5))\n",
    "df.groupby('name').count()['id'].sort_values().tail(5).plot(kind='barh')\n",
    "plt.savefig(\"images/users.png\")"
   ]
  },
  {
   "cell_type": "markdown",
   "metadata": {},
   "source": [
    "# ¿En qué mes se concentra el mayor número de tweets?"
   ]
  },
  {
   "cell_type": "markdown",
   "metadata": {},
   "source": [
    "### Junio (100 tweets)"
   ]
  },
  {
   "cell_type": "code",
   "execution_count": 9,
   "metadata": {},
   "outputs": [],
   "source": [
    "df['date'] = pd.to_datetime(df.date)"
   ]
  },
  {
   "cell_type": "code",
   "execution_count": 10,
   "metadata": {},
   "outputs": [],
   "source": [
    "months = []\n",
    "for date in df.date:\n",
    "    months.append(date.month)\n",
    "df['month'] = months"
   ]
  },
  {
   "cell_type": "code",
   "execution_count": 117,
   "metadata": {},
   "outputs": [],
   "source": [
    "filter = {'1':'Enero','2':'Febrero','3':'Marzo','4':'Abril','5':'Mayo','6':'Junio','7':'Julio'}"
   ]
  },
  {
   "cell_type": "code",
   "execution_count": 122,
   "metadata": {},
   "outputs": [
    {
     "data": {
      "text/plain": [
       "month\n",
       "Junio      100\n",
       "Mayo        50\n",
       "Abril       49\n",
       "Marzo       27\n",
       "Febrero     23\n",
       "Enero       17\n",
       "Julio       15\n",
       "Name: id, dtype: int64"
      ]
     },
     "execution_count": 122,
     "metadata": {},
     "output_type": "execute_result"
    }
   ],
   "source": [
    "df['month'] = df['month'].astype(str).replace(filter)\n",
    "df_group = df.groupby('month').count()['id'].sort_values(ascending=False)\n",
    "df_group"
   ]
  },
  {
   "cell_type": "code",
   "execution_count": 124,
   "metadata": {},
   "outputs": [
    {
     "data": {
      "image/png": "[encoded data removed]",
      "text/plain": [
       "<Figure size 360x360 with 1 Axes>"
      ]
     },
     "metadata": {},
     "output_type": "display_data"
    }
   ],
   "source": [
    "plt.figure(figsize=(5,5))\n",
    "df.groupby('month').count()['id'].sort_values(ascending=False).plot(kind='pie')\n",
    "plt.savefig(\"images/months.png\")"
   ]
  },
  {
   "cell_type": "markdown",
   "metadata": {},
   "source": [
    "# ¿Qué palabras son más frecuentes?"
   ]
  },
  {
   "cell_type": "markdown",
   "metadata": {},
   "source": [
    "### Gracias, Digital, Talento, Futuro y Entradas"
   ]
  },
  {
   "cell_type": "code",
   "execution_count": 77,
   "metadata": {},
   "outputs": [],
   "source": [
    "from nltk.stem.snowball import SnowballStemmer\n",
    "from nltk.corpus import stopwords\n",
    "import re\n",
    "def remove_stopwords(df):\n",
    "    spanish_stopwords = stopwords.words('spanish')\n",
    "    return \" \".join([word for word in df.split() if word not in spanish_stopwords])\n",
    "\n",
    "def remove_links(df):\n",
    "    return \" \".join(['{link}' if ('http') in word else word for word in df.split()])\n",
    "\n",
    "def signs_tweets(tweet):\n",
    "    signos = re.compile(\"(\\.)|(\\;)|(\\:)|(\\!)|(\\?)|(\\¿)|(\\,)|(\\\")|(\\()|(\\))|(\\[)|(\\])|(\\d+)\")\n",
    "    return signos.sub('', tweet.lower())"
   ]
  },
  {
   "cell_type": "code",
   "execution_count": 78,
   "metadata": {},
   "outputs": [],
   "source": [
    "    tweets = df.tweet\n",
    "    words = []\n",
    "    for tweet in tweets:\n",
    "        text = pd.Series(tweet)\n",
    "        test_clean = pd.DataFrame(text, columns=['content'])\n",
    "        test_clean['content_clean'] = test_clean['content'].apply(signs_tweets)\n",
    "        test_clean['content_clean'] = test_clean['content_clean'].apply(remove_links)\n",
    "        test_clean['content_clean'] = test_clean['content_clean'].apply(remove_stopwords)\n",
    "        words = words + test_clean['content_clean'][0].split()"
   ]
  },
  {
   "cell_type": "code",
   "execution_count": 76,
   "metadata": {},
   "outputs": [
    {
     "data": {
      "text/plain": [
       "si               25\n",
       "gracias          21\n",
       "#bootcamp        20\n",
       "digital          19\n",
       "hoy              18\n",
       "talento          16\n",
       "#datascience     15\n",
       "@nodosenlared    15\n",
       "futuro           13\n",
       "@mulder          12\n",
       "entradas         12\n",
       "madrid           12\n",
       "@heavymental     11\n",
       "@arey            11\n",
       "formación        11\n",
       "dtype: int64"
      ]
     },
     "execution_count": 76,
     "metadata": {},
     "output_type": "execute_result"
    }
   ],
   "source": [
    "pd.Series(words).value_counts()[8:].head(15)"
   ]
  },
  {
   "cell_type": "markdown",
   "metadata": {},
   "source": [
    "# ¿Qué tipo de correlación matemática encuentras entre las métricas públicas?"
   ]
  },
  {
   "cell_type": "code",
   "execution_count": 13,
   "metadata": {},
   "outputs": [
    {
     "data": {
      "text/html": [
       "<div>\n",
       "<style scoped>\n",
       "    .dataframe tbody tr th:only-of-type {\n",
       "        vertical-align: middle;\n",
       "    }\n",
       "\n",
       "    .dataframe tbody tr th {\n",
       "        vertical-align: top;\n",
       "    }\n",
       "\n",
       "    .dataframe thead th {\n",
       "        text-align: right;\n",
       "    }\n",
       "</style>\n",
       "<table border=\"1\" class=\"dataframe\">\n",
       "  <thead>\n",
       "    <tr style=\"text-align: right;\">\n",
       "      <th></th>\n",
       "      <th>replies_count</th>\n",
       "      <th>retweets_count</th>\n",
       "      <th>likes_count</th>\n",
       "    </tr>\n",
       "  </thead>\n",
       "  <tbody>\n",
       "    <tr>\n",
       "      <th>replies_count</th>\n",
       "      <td>1.000000</td>\n",
       "      <td>0.187587</td>\n",
       "      <td>0.322007</td>\n",
       "    </tr>\n",
       "    <tr>\n",
       "      <th>retweets_count</th>\n",
       "      <td>0.187587</td>\n",
       "      <td>1.000000</td>\n",
       "      <td>0.516970</td>\n",
       "    </tr>\n",
       "    <tr>\n",
       "      <th>likes_count</th>\n",
       "      <td>0.322007</td>\n",
       "      <td>0.516970</td>\n",
       "      <td>1.000000</td>\n",
       "    </tr>\n",
       "  </tbody>\n",
       "</table>\n",
       "</div>"
      ],
      "text/plain": [
       "                replies_count  retweets_count  likes_count\n",
       "replies_count        1.000000        0.187587     0.322007\n",
       "retweets_count       0.187587        1.000000     0.516970\n",
       "likes_count          0.322007        0.516970     1.000000"
      ]
     },
     "execution_count": 13,
     "metadata": {},
     "output_type": "execute_result"
    }
   ],
   "source": [
    "df_corr = df.iloc[:,-4:-1]\n",
    "df_corr.corr()"
   ]
  },
  {
   "cell_type": "code",
   "execution_count": 126,
   "metadata": {},
   "outputs": [
    {
     "data": {
      "image/png": "[encoded data removed]",
      "text/plain": [
       "<Figure size 360x360 with 2 Axes>"
      ]
     },
     "metadata": {
      "needs_background": "light"
     },
     "output_type": "display_data"
    }
   ],
   "source": [
    "plt.figure(figsize=(5,5))\n",
    "sns.heatmap(df_corr.corr(), annot=True);\n",
    "plt.savefig(\"images/heatmap.png\")\n"
   ]
  }
 ],
 "metadata": {
  "kernelspec": {
   "display_name": "Python 3.9.12 ('twitter_env')",
   "language": "python",
   "name": "python3"
  },
  "language_info": {
   "codemirror_mode": {
    "name": "ipython",
    "version": 3
   },
   "file_extension": ".py",
   "mimetype": "text/x-python",
   "name": "python",
   "nbconvert_exporter": "python",
   "pygments_lexer": "ipython3",
   "version": "3.9.12"
  },
  "orig_nbformat": 4,
  "vscode": {
   "interpreter": {
    "hash": "32f29fa90d47e509226c9618da48d5b8d8a59f4da3d7b0c52d80b859e2c3621c"
   }
  }
 },
 "nbformat": 4,
 "nbformat_minor": 2
}
