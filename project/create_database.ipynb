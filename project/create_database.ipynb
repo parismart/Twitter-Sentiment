{
 "cells": [
  {
   "cell_type": "code",
   "execution_count": 1,
   "metadata": {},
   "outputs": [],
   "source": [
    "import pandas as pd\n",
    "import sqlite3"
   ]
  },
  {
   "cell_type": "code",
   "execution_count": null,
   "metadata": {},
   "outputs": [],
   "source": [
    "# Conectamos con la base de datos\n",
    "connect = sqlite3.connect('data/my_database.db')\n",
    "cursor = connect.cursor()"
   ]
  },
  {
   "cell_type": "code",
   "execution_count": 31,
   "metadata": {},
   "outputs": [
    {
     "data": {
      "text/plain": [
       "<sqlite3.Cursor at 0x2590c0739d0>"
      ]
     },
     "execution_count": 31,
     "metadata": {},
     "output_type": "execute_result"
    }
   ],
   "source": [
    "# Creamos las tablas\n",
    "\n",
    "cursor.execute(\n",
    "    \"\"\"CREATE TABLE IF NOT EXISTS tweets(\n",
    "        id VARCHAR(255) PRIMARY KEY,\n",
    "        tweet TEXT NOT NULL,\n",
    "        date DATE, \n",
    "        user_id VARCHAR(255),\n",
    "        retweets_count INTEGER,\n",
    "        replies_count INTEGER,\n",
    "        likes_count INTEGER\n",
    "        )\"\"\"\n",
    "    )\n",
    "\n",
    "cursor.execute(\n",
    "    \"\"\"CREATE TABLE IF NOT EXISTS users(\n",
    "        user_id VARCHAR(255) PRIMARY KEY,\n",
    "        name VARCHAR(255),\n",
    "        username VARCHAR(255)\n",
    "        )\"\"\"\n",
    "    )"
   ]
  },
  {
   "cell_type": "code",
   "execution_count": 9,
   "metadata": {},
   "outputs": [],
   "source": [
    "df = pd.read_csv('data/clean_data.csv', index_col=0)"
   ]
  },
  {
   "cell_type": "code",
   "execution_count": 29,
   "metadata": {},
   "outputs": [],
   "source": [
    "# Rellenamos la tabla tweets\n",
    "df_tweets = df.drop(['name','username'], axis=1)\n",
    "for i,row in df_tweets.iterrows():\n",
    "        task = (row[0],row[1],row[2],row[3],row[4],row[5],row[6]) \n",
    "        sql = ''' INSERT INTO tweets(id,date,user_id,tweet,replies_count,retweets_count,likes_count)\n",
    "                VALUES(?,?,?,?,?,?,?) '''\n",
    "        cursor = connect.cursor()\n",
    "        cursor.execute(sql, task)\n",
    "        connect.commit()"
   ]
  },
  {
   "cell_type": "code",
   "execution_count": 44,
   "metadata": {},
   "outputs": [],
   "source": [
    "# Rellenamos la tabla users\n",
    "df_users = df.loc[:,['user_id','name','username']].drop_duplicates()\n",
    "for i,row in df_users.iterrows():\n",
    "        task = (row[0],row[1],row[2]) \n",
    "        sql = ''' INSERT INTO users(user_id,name,username)\n",
    "                VALUES(?,?,?) '''\n",
    "        cursor = connect.cursor()\n",
    "        cursor.execute(sql, task)\n",
    "        connect.commit()"
   ]
  },
  {
   "cell_type": "code",
   "execution_count": null,
   "metadata": {},
   "outputs": [],
   "source": [
    "cursor.close()\n",
    "connect.close()"
   ]
  }
 ],
 "metadata": {
  "kernelspec": {
   "display_name": "Python 3.9.12 ('twitter_env')",
   "language": "python",
   "name": "python3"
  },
  "language_info": {
   "codemirror_mode": {
    "name": "ipython",
    "version": 3
   },
   "file_extension": ".py",
   "mimetype": "text/x-python",
   "name": "python",
   "nbconvert_exporter": "python",
   "pygments_lexer": "ipython3",
   "version": "3.9.12"
  },
  "orig_nbformat": 4,
  "vscode": {
   "interpreter": {
    "hash": "32f29fa90d47e509226c9618da48d5b8d8a59f4da3d7b0c52d80b859e2c3621c"
   }
  }
 },
 "nbformat": 4,
 "nbformat_minor": 2
}
